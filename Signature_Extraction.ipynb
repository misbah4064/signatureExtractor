{
  "nbformat": 4,
  "nbformat_minor": 0,
  "metadata": {
    "colab": {
      "name": "Signature Extraction.ipynb",
      "provenance": [],
      "authorship_tag": "ABX9TyMglzznNa+P8cCHmTAK5jJQ",
      "include_colab_link": true
    },
    "kernelspec": {
      "display_name": "Python 3",
      "name": "python3"
    }
  },
  "cells": [
    {
      "cell_type": "markdown",
      "metadata": {
        "id": "view-in-github",
        "colab_type": "text"
      },
      "source": [
        "<a href=\"https://colab.research.google.com/github/misbah4064/signatureExtractor/blob/main/Signature_Extraction.ipynb\" target=\"_parent\"><img src=\"https://colab.research.google.com/assets/colab-badge.svg\" alt=\"Open In Colab\"/></a>"
      ]
    },
    {
      "cell_type": "code",
      "metadata": {
        "id": "Sik-LcHDSBpf"
      },
      "source": [
        "#  Link to the author's repo\n",
        "#  https://github.com/ahmetozlu/signature_extractor/tree/feature-doc_scanner_sign_extrator\n",
        "\n",
        "import cv2\n",
        "from google.colab.patches import cv2_imshow\n",
        "import matplotlib.pyplot as plt\n",
        "import skimage\n",
        "from skimage import measure, morphology\n",
        "from skimage.color import label2rgb\n",
        "from skimage.measure import regionprops"
      ],
      "execution_count": 15,
      "outputs": []
    },
    {
      "cell_type": "code",
      "metadata": {
        "id": "8b95sZAISfe2"
      },
      "source": [
        "img = cv2.imread('in1.jpg', 0)\n",
        "img = cv2.threshold(img, 127, 255, cv2.THRESH_BINARY)[1] \n",
        "\n",
        "blobs = img > img.mean()\n",
        "blobs_labels = measure.label(blobs, background=1)\n",
        "image_label_overlay = label2rgb(blobs_labels, image=img)"
      ],
      "execution_count": 27,
      "outputs": []
    },
    {
      "cell_type": "code",
      "metadata": {
        "colab": {
          "base_uri": "https://localhost:8080/",
          "height": 1000
        },
        "id": "vPzPliVUTqmN",
        "outputId": "7b2e70af-cf43-489a-de14-334b841656dd"
      },
      "source": [
        "the_biggest_component = 0\n",
        "total_area = 0\n",
        "counter = 0\n",
        "average = 0.0\n",
        "for region in regionprops(blobs_labels):\n",
        "    if (region.area > 10):\n",
        "        total_area = total_area + region.area\n",
        "        counter = counter + 1\n",
        "    if (region.area >= 250):\n",
        "        if (region.area > the_biggest_component):\n",
        "            the_biggest_component = region.area\n",
        "\n",
        "average = (total_area/counter)\n",
        "print(\"the_biggest_component: \" + str(the_biggest_component))\n",
        "print(\"average: \" + str(average))\n",
        "\n",
        "a4_constant = ((average/84.0)*250.0)+100\n",
        "print(\"a4_constant: \" + str(a4_constant))\n",
        "\n",
        "b = morphology.remove_small_objects(blobs_labels, a4_constant)\n",
        "\n",
        "plt.imsave('pre_version.png', b)\n",
        "\n",
        "# read the pre-version\n",
        "img2 = cv2.imread('pre_version.png', 0)\n",
        "# ensure binary\n",
        "img2 = cv2.threshold(img2, 0, 255, cv2.THRESH_BINARY_INV | cv2.THRESH_OTSU)[1]\n",
        "# save the the result\n",
        "# cv2_imshow(img2)\n",
        "cv2.imwrite(\"output.png\", img2)\n",
        "# cv2_imshow(img)\n",
        "diff = cv2.bitwise_xor(img,img2)\n",
        "diff = cv2.bitwise_not(diff)\n",
        "cv2_imshow(diff)"
      ],
      "execution_count": 26,
      "outputs": [
        {
          "output_type": "stream",
          "text": [
            "the_biggest_component: 575\n",
            "average: 24.514018691588785\n",
            "a4_constant: 172.95838896306185\n"
          ],
          "name": "stdout"
        },
        {
          "output_type": "display_data",
          "data": {
            "image/png": "[encoded data removed]",
            "text/plain": [
              "<PIL.Image.Image image mode=L size=727x1000 at 0x7F66CEEE56D8>"
            ]
          },
          "metadata": {
            "tags": []
          }
        }
      ]
    }
  ]
}